{
 "cells": [
  {
   "cell_type": "markdown",
   "metadata": {},
   "source": [
    "# Covid restrictions QALY/time-tradeoff analysis"
   ]
  },
  {
   "cell_type": "markdown",
   "metadata": {},
   "source": [
    "In order to put forward a utilitarian defence of no covid restrictions, I attemp to carry out a QALY(Quality adjusted life years)'ish analysis of as to whether more quality adjusted lifeyears are lost due to covid or covid restrictions.\n",
    "\n",
    "The analysis is extremely naive as it ignored nth order effects.\n",
    "\n",
    "$\\Large QALY = \\sum_{event}^{death} Q_{i}* x_{i}$"
   ]
  },
  {
   "cell_type": "markdown",
   "metadata": {},
   "source": [
    "## Methdology"
   ]
  },
  {
   "cell_type": "markdown",
   "metadata": {},
   "source": [
    "$\\textbf{Covid restrictions:}$\n",
    "\n"
   ]
  },
  {
   "cell_type": "markdown",
   "metadata": {},
   "source": [
    "$\\text{Lifeyears lost due to restrictions = A}$\n"
   ]
  },
  {
   "cell_type": "markdown",
   "metadata": {},
   "source": [
    "$\\text{No of. people who suffered because of restrictions = B}$"
   ]
  },
  {
   "cell_type": "markdown",
   "metadata": {},
   "source": [
    "$\\text{Time under restrictions = C}$"
   ]
  },
  {
   "cell_type": "markdown",
   "metadata": {},
   "source": [
    "$\\text{Life year adjustment = D}$"
   ]
  },
  {
   "cell_type": "markdown",
   "metadata": {},
   "source": [
    "$\\text{A = B  C  D}$"
   ]
  },
  {
   "cell_type": "markdown",
   "metadata": {},
   "source": [
    "$\\text{______________________________________________________}$"
   ]
  },
  {
   "cell_type": "markdown",
   "metadata": {},
   "source": [
    "$\\textbf{ No Covid restrictions:}$"
   ]
  },
  {
   "cell_type": "markdown",
   "metadata": {},
   "source": [
    "$\\text{Lifeyears lost due to no restrictions = E}$"
   ]
  },
  {
   "cell_type": "markdown",
   "metadata": {},
   "source": [
    "$\\text{No of. years more every person could have lived = F}$"
   ]
  },
  {
   "cell_type": "markdown",
   "metadata": {},
   "source": [
    "$\\text{No of. covid deaths = G}$"
   ]
  },
  {
   "cell_type": "markdown",
   "metadata": {},
   "source": [
    "$\\text{E = F G }$"
   ]
  },
  {
   "cell_type": "markdown",
   "metadata": {},
   "source": [
    "$\\text{A ? E , will determine my conclusion.}$"
   ]
  },
  {
   "cell_type": "markdown",
   "metadata": {},
   "source": [
    "To read up more on QALY : https://en.wikipedia.org/wiki/Quality-adjusted_life_year"
   ]
  },
  {
   "cell_type": "markdown",
   "metadata": {},
   "source": [
    "To find the variable D (life year adjustment), I surveyed a non partisan forum of people to see how they feel about COVID restrictions. Survey n = 98\n",
    "\n",
    "I asked them how much time would they trade to avoid 1 year od covid restrictions. If they trade 0 time, that means they don't care, if they trade positive times that means they didn't like living under restrictions, and negative means they did."
   ]
  },
  {
   "cell_type": "code",
   "execution_count": 1,
   "metadata": {},
   "outputs": [],
   "source": [
    "import pandas as pd \n",
    "import re \n",
    "import seaborn as sns\n",
    "from matplotlib import pyplot as plt\n",
    "import numpy as np"
   ]
  },
  {
   "cell_type": "code",
   "execution_count": 2,
   "metadata": {},
   "outputs": [],
   "source": [
    "#I did a bit of manual cleaning before calling in the file\n",
    "#Survey\n",
    "df = pd.read_csv('survey.csv')"
   ]
  },
  {
   "cell_type": "code",
   "execution_count": 3,
   "metadata": {},
   "outputs": [
    {
     "data": {
      "text/html": [
       "<div>\n",
       "<style scoped>\n",
       "    .dataframe tbody tr th:only-of-type {\n",
       "        vertical-align: middle;\n",
       "    }\n",
       "\n",
       "    .dataframe tbody tr th {\n",
       "        vertical-align: top;\n",
       "    }\n",
       "\n",
       "    .dataframe thead th {\n",
       "        text-align: right;\n",
       "    }\n",
       "</style>\n",
       "<table border=\"1\" class=\"dataframe\">\n",
       "  <thead>\n",
       "    <tr style=\"text-align: right;\">\n",
       "      <th></th>\n",
       "      <th>time</th>\n",
       "    </tr>\n",
       "  </thead>\n",
       "  <tbody>\n",
       "    <tr>\n",
       "      <th>0</th>\n",
       "      <td>2 years more</td>\n",
       "    </tr>\n",
       "    <tr>\n",
       "      <th>1</th>\n",
       "      <td>1 month</td>\n",
       "    </tr>\n",
       "    <tr>\n",
       "      <th>2</th>\n",
       "      <td>1 month</td>\n",
       "    </tr>\n",
       "    <tr>\n",
       "      <th>3</th>\n",
       "      <td>0 months</td>\n",
       "    </tr>\n",
       "    <tr>\n",
       "      <th>4</th>\n",
       "      <td>0</td>\n",
       "    </tr>\n",
       "    <tr>\n",
       "      <th>5</th>\n",
       "      <td>1 month less</td>\n",
       "    </tr>\n",
       "    <tr>\n",
       "      <th>6</th>\n",
       "      <td>0</td>\n",
       "    </tr>\n",
       "    <tr>\n",
       "      <th>7</th>\n",
       "      <td>3 months</td>\n",
       "    </tr>\n",
       "    <tr>\n",
       "      <th>8</th>\n",
       "      <td>0</td>\n",
       "    </tr>\n",
       "    <tr>\n",
       "      <th>9</th>\n",
       "      <td>0</td>\n",
       "    </tr>\n",
       "  </tbody>\n",
       "</table>\n",
       "</div>"
      ],
      "text/plain": [
       "            time\n",
       "0   2 years more\n",
       "1        1 month\n",
       "2        1 month\n",
       "3       0 months\n",
       "4              0\n",
       "5  1 month less \n",
       "6              0\n",
       "7       3 months\n",
       "8              0\n",
       "9              0"
      ]
     },
     "execution_count": 3,
     "metadata": {},
     "output_type": "execute_result"
    }
   ],
   "source": [
    "df.head(10)"
   ]
  },
  {
   "cell_type": "code",
   "execution_count": 4,
   "metadata": {},
   "outputs": [
    {
     "name": "stdout",
     "output_type": "stream",
     "text": [
      "<class 'pandas.core.frame.DataFrame'>\n",
      "RangeIndex: 93 entries, 0 to 92\n",
      "Data columns (total 1 columns):\n",
      " #   Column  Non-Null Count  Dtype \n",
      "---  ------  --------------  ----- \n",
      " 0   time    93 non-null     object\n",
      "dtypes: object(1)\n",
      "memory usage: 872.0+ bytes\n"
     ]
    }
   ],
   "source": [
    "df.info()"
   ]
  },
  {
   "cell_type": "markdown",
   "metadata": {},
   "source": [
    "### Data cleaning"
   ]
  },
  {
   "cell_type": "code",
   "execution_count": 5,
   "metadata": {},
   "outputs": [
    {
     "data": {
      "text/plain": [
       "time        \n",
       "0               33\n",
       "1 month         15\n",
       "1 whole year    11\n",
       "3 months         9\n",
       "2 months         3\n",
       "dtype: int64"
      ]
     },
     "execution_count": 5,
     "metadata": {},
     "output_type": "execute_result"
    }
   ],
   "source": [
    "#Grouping data as much as the software can initially before data cleaning\n",
    "df.value_counts().head() "
   ]
  },
  {
   "cell_type": "code",
   "execution_count": 6,
   "metadata": {},
   "outputs": [],
   "source": [
    "#Turning series into dataframe\n",
    "df = pd.DataFrame({'time': [x[0] for x in df.value_counts().index],'counts': [x for x in df.value_counts()]}) "
   ]
  },
  {
   "cell_type": "code",
   "execution_count": 7,
   "metadata": {},
   "outputs": [
    {
     "data": {
      "text/html": [
       "<div>\n",
       "<style scoped>\n",
       "    .dataframe tbody tr th:only-of-type {\n",
       "        vertical-align: middle;\n",
       "    }\n",
       "\n",
       "    .dataframe tbody tr th {\n",
       "        vertical-align: top;\n",
       "    }\n",
       "\n",
       "    .dataframe thead th {\n",
       "        text-align: right;\n",
       "    }\n",
       "</style>\n",
       "<table border=\"1\" class=\"dataframe\">\n",
       "  <thead>\n",
       "    <tr style=\"text-align: right;\">\n",
       "      <th></th>\n",
       "      <th>time</th>\n",
       "      <th>counts</th>\n",
       "    </tr>\n",
       "  </thead>\n",
       "  <tbody>\n",
       "    <tr>\n",
       "      <th>0</th>\n",
       "      <td>0</td>\n",
       "      <td>33</td>\n",
       "    </tr>\n",
       "    <tr>\n",
       "      <th>1</th>\n",
       "      <td>1 month</td>\n",
       "      <td>15</td>\n",
       "    </tr>\n",
       "    <tr>\n",
       "      <th>2</th>\n",
       "      <td>1 whole year</td>\n",
       "      <td>11</td>\n",
       "    </tr>\n",
       "    <tr>\n",
       "      <th>3</th>\n",
       "      <td>3 months</td>\n",
       "      <td>9</td>\n",
       "    </tr>\n",
       "    <tr>\n",
       "      <th>4</th>\n",
       "      <td>2 months</td>\n",
       "      <td>3</td>\n",
       "    </tr>\n",
       "    <tr>\n",
       "      <th>5</th>\n",
       "      <td>6 months</td>\n",
       "      <td>2</td>\n",
       "    </tr>\n",
       "    <tr>\n",
       "      <th>6</th>\n",
       "      <td>0 months</td>\n",
       "      <td>2</td>\n",
       "    </tr>\n",
       "    <tr>\n",
       "      <th>7</th>\n",
       "      <td>2 years more</td>\n",
       "      <td>2</td>\n",
       "    </tr>\n",
       "    <tr>\n",
       "      <th>8</th>\n",
       "      <td>1 year more</td>\n",
       "      <td>1</td>\n",
       "    </tr>\n",
       "    <tr>\n",
       "      <th>9</th>\n",
       "      <td>0.2 months</td>\n",
       "      <td>1</td>\n",
       "    </tr>\n",
       "  </tbody>\n",
       "</table>\n",
       "</div>"
      ],
      "text/plain": [
       "           time  counts\n",
       "0             0      33\n",
       "1       1 month      15\n",
       "2  1 whole year      11\n",
       "3      3 months       9\n",
       "4      2 months       3\n",
       "5      6 months       2\n",
       "6      0 months       2\n",
       "7  2 years more       2\n",
       "8   1 year more       1\n",
       "9    0.2 months       1"
      ]
     },
     "execution_count": 7,
     "metadata": {},
     "output_type": "execute_result"
    }
   ],
   "source": [
    "df.head(10)"
   ]
  },
  {
   "cell_type": "code",
   "execution_count": 8,
   "metadata": {},
   "outputs": [],
   "source": [
    "#color coding liked vs disliked, will help plotting easier.\n",
    "\n",
    "def find_color(x): \n",
    "    if 'less' in x.split():\n",
    "        return 'green'\n",
    "    return 'red'\n",
    "\n",
    "df['color'] = df['time'].apply(find_color)"
   ]
  },
  {
   "cell_type": "code",
   "execution_count": 9,
   "metadata": {},
   "outputs": [],
   "source": [
    "#Fixing bad user input mostly\n",
    "\n",
    "df['time'] = df['time'].str.strip() \n",
    "\n",
    "df['time'] = df['time'].str.replace(r'more|less|whole', '',regex=True) #I can get rid of more&less now since I have colors\n",
    "\n",
    "df['time'] = df['time'].str.replace(r'^[\\s]*0[\\s\\w]+','0',regex=True) #Replace 0 anything with just 0\n",
    "\n",
    "df['time'] = df['time'].str.replace(r'(s|\\s)+$', '', regex = True) #Remove 's' from ends of words"
   ]
  },
  {
   "cell_type": "code",
   "execution_count": 10,
   "metadata": {},
   "outputs": [],
   "source": [
    "#Converting user input to numbers\n",
    "\n",
    "def turntodays(x):\n",
    "    \n",
    "    multiplier_dict = {'day': 1, 'week': 7, 'month': 30, 'year': 365} #convert other time units to days\n",
    "    \n",
    "    if x == '0':\n",
    "        return 0\n",
    "    elif x == 'Infinity':\n",
    "        return 365 #1 year, any value too high will be an extreme outlier as the max is 10 years,\n",
    "    #took some liberty to guess the value here\n",
    "    else:\n",
    "        number,multiplier = x.split()[0],x.split()[1]\n",
    "        return float(number)*multiplier_dict[multiplier]\n",
    "        \n",
    "df['time'] = df['time'].apply(turntodays)"
   ]
  },
  {
   "cell_type": "code",
   "execution_count": 11,
   "metadata": {},
   "outputs": [
    {
     "data": {
      "text/plain": [
       "<bound method NDFrame.head of       time  counts  color\n",
       "0      0.0      33    red\n",
       "1     30.0      15    red\n",
       "2    365.0      11    red\n",
       "3     90.0       9    red\n",
       "4     60.0       3    red\n",
       "5    180.0       2    red\n",
       "6      0.0       2    red\n",
       "7    730.0       2    red\n",
       "8    365.0       1    red\n",
       "9      6.0       1    red\n",
       "10     1.0       1    red\n",
       "11     1.0       1    red\n",
       "12    30.0       1  green\n",
       "13   365.0       1  green\n",
       "14   365.0       1    red\n",
       "15    10.0       1    red\n",
       "16   240.0       1    red\n",
       "17  3650.0       1    red\n",
       "18   730.0       1    red\n",
       "19   730.0       1    red\n",
       "20  1095.0       1    red\n",
       "21   120.0       1    red\n",
       "22  1825.0       1    red\n",
       "23   300.0       1    red>"
      ]
     },
     "execution_count": 11,
     "metadata": {},
     "output_type": "execute_result"
    }
   ],
   "source": [
    "df.head"
   ]
  },
  {
   "cell_type": "code",
   "execution_count": 12,
   "metadata": {},
   "outputs": [],
   "source": [
    "#More untangling of user input\n",
    "g= df.groupby(['time','color']).counts.sum()\n",
    "\n",
    "df_f = pd.DataFrame({'time': [x[0] for x in g.index]\n",
    "                     ,'counts': [x for x in g]\n",
    "                    ,'color': [x[1] for x in g.index]})"
   ]
  },
  {
   "cell_type": "code",
   "execution_count": 13,
   "metadata": {},
   "outputs": [],
   "source": [
    "#Making time values make sense\n",
    "\n",
    "df_f['time'] = df_f.apply(lambda row:row.time if row.color == 'red' else -row.time, axis = 1)"
   ]
  },
  {
   "cell_type": "markdown",
   "metadata": {},
   "source": [
    "### Analysis"
   ]
  },
  {
   "cell_type": "code",
   "execution_count": 14,
   "metadata": {},
   "outputs": [
    {
     "data": {
      "text/html": [
       "<div>\n",
       "<style scoped>\n",
       "    .dataframe tbody tr th:only-of-type {\n",
       "        vertical-align: middle;\n",
       "    }\n",
       "\n",
       "    .dataframe tbody tr th {\n",
       "        vertical-align: top;\n",
       "    }\n",
       "\n",
       "    .dataframe thead th {\n",
       "        text-align: right;\n",
       "    }\n",
       "</style>\n",
       "<table border=\"1\" class=\"dataframe\">\n",
       "  <thead>\n",
       "    <tr style=\"text-align: right;\">\n",
       "      <th></th>\n",
       "      <th>time</th>\n",
       "      <th>counts</th>\n",
       "      <th>color</th>\n",
       "    </tr>\n",
       "  </thead>\n",
       "  <tbody>\n",
       "    <tr>\n",
       "      <th>0</th>\n",
       "      <td>0.0</td>\n",
       "      <td>35</td>\n",
       "      <td>red</td>\n",
       "    </tr>\n",
       "    <tr>\n",
       "      <th>1</th>\n",
       "      <td>1.0</td>\n",
       "      <td>2</td>\n",
       "      <td>red</td>\n",
       "    </tr>\n",
       "    <tr>\n",
       "      <th>2</th>\n",
       "      <td>6.0</td>\n",
       "      <td>1</td>\n",
       "      <td>red</td>\n",
       "    </tr>\n",
       "    <tr>\n",
       "      <th>3</th>\n",
       "      <td>10.0</td>\n",
       "      <td>1</td>\n",
       "      <td>red</td>\n",
       "    </tr>\n",
       "    <tr>\n",
       "      <th>4</th>\n",
       "      <td>-30.0</td>\n",
       "      <td>1</td>\n",
       "      <td>green</td>\n",
       "    </tr>\n",
       "    <tr>\n",
       "      <th>5</th>\n",
       "      <td>30.0</td>\n",
       "      <td>15</td>\n",
       "      <td>red</td>\n",
       "    </tr>\n",
       "    <tr>\n",
       "      <th>6</th>\n",
       "      <td>60.0</td>\n",
       "      <td>3</td>\n",
       "      <td>red</td>\n",
       "    </tr>\n",
       "    <tr>\n",
       "      <th>7</th>\n",
       "      <td>90.0</td>\n",
       "      <td>9</td>\n",
       "      <td>red</td>\n",
       "    </tr>\n",
       "    <tr>\n",
       "      <th>8</th>\n",
       "      <td>120.0</td>\n",
       "      <td>1</td>\n",
       "      <td>red</td>\n",
       "    </tr>\n",
       "    <tr>\n",
       "      <th>9</th>\n",
       "      <td>180.0</td>\n",
       "      <td>2</td>\n",
       "      <td>red</td>\n",
       "    </tr>\n",
       "    <tr>\n",
       "      <th>10</th>\n",
       "      <td>240.0</td>\n",
       "      <td>1</td>\n",
       "      <td>red</td>\n",
       "    </tr>\n",
       "    <tr>\n",
       "      <th>11</th>\n",
       "      <td>300.0</td>\n",
       "      <td>1</td>\n",
       "      <td>red</td>\n",
       "    </tr>\n",
       "    <tr>\n",
       "      <th>12</th>\n",
       "      <td>-365.0</td>\n",
       "      <td>1</td>\n",
       "      <td>green</td>\n",
       "    </tr>\n",
       "    <tr>\n",
       "      <th>13</th>\n",
       "      <td>365.0</td>\n",
       "      <td>13</td>\n",
       "      <td>red</td>\n",
       "    </tr>\n",
       "    <tr>\n",
       "      <th>14</th>\n",
       "      <td>730.0</td>\n",
       "      <td>4</td>\n",
       "      <td>red</td>\n",
       "    </tr>\n",
       "    <tr>\n",
       "      <th>15</th>\n",
       "      <td>1095.0</td>\n",
       "      <td>1</td>\n",
       "      <td>red</td>\n",
       "    </tr>\n",
       "    <tr>\n",
       "      <th>16</th>\n",
       "      <td>1825.0</td>\n",
       "      <td>1</td>\n",
       "      <td>red</td>\n",
       "    </tr>\n",
       "    <tr>\n",
       "      <th>17</th>\n",
       "      <td>3650.0</td>\n",
       "      <td>1</td>\n",
       "      <td>red</td>\n",
       "    </tr>\n",
       "  </tbody>\n",
       "</table>\n",
       "</div>"
      ],
      "text/plain": [
       "      time  counts  color\n",
       "0      0.0      35    red\n",
       "1      1.0       2    red\n",
       "2      6.0       1    red\n",
       "3     10.0       1    red\n",
       "4    -30.0       1  green\n",
       "5     30.0      15    red\n",
       "6     60.0       3    red\n",
       "7     90.0       9    red\n",
       "8    120.0       1    red\n",
       "9    180.0       2    red\n",
       "10   240.0       1    red\n",
       "11   300.0       1    red\n",
       "12  -365.0       1  green\n",
       "13   365.0      13    red\n",
       "14   730.0       4    red\n",
       "15  1095.0       1    red\n",
       "16  1825.0       1    red\n",
       "17  3650.0       1    red"
      ]
     },
     "execution_count": 14,
     "metadata": {},
     "output_type": "execute_result"
    }
   ],
   "source": [
    "df_f #Finally looks good to work with."
   ]
  },
  {
   "cell_type": "code",
   "execution_count": 15,
   "metadata": {},
   "outputs": [
    {
     "data": {
      "image/png": "[encoded data removed]",
      "text/plain": [
       "<Figure size 1080x360 with 1 Axes>"
      ]
     },
     "metadata": {
      "needs_background": "light"
     },
     "output_type": "display_data"
    }
   ],
   "source": [
    "#Plot\n",
    "\n",
    "fig = plt.figure(figsize = (15, 5))\n",
    "plt.bar(df_f['time'], df_f['counts'], color =df_f['color'],\n",
    "        width = 30)\n",
    "\n",
    "\n",
    "plt.xlabel(\"Days in exchange for 1 year of no lockdown\")\n",
    "plt.ylabel(\"n\")\n",
    "plt.xticks(np.arange(-500, 4000, 250))\n",
    "plt.grid()\n",
    "plt.title(\"Red = give up, Green = Want more\")\n",
    "\n",
    "plt.show()"
   ]
  },
  {
   "cell_type": "code",
   "execution_count": 16,
   "metadata": {},
   "outputs": [
    {
     "data": {
      "image/png": "[encoded data removed]",
      "text/plain": [
       "<Figure size 432x288 with 1 Axes>"
      ]
     },
     "metadata": {
      "needs_background": "light"
     },
     "output_type": "display_data"
    }
   ],
   "source": [
    "# Box plot\n",
    "\n",
    "fig, ax = plt.subplots()\n",
    "ax.boxplot(df_f['time'])\n",
    "plt.show()"
   ]
  },
  {
   "cell_type": "code",
   "execution_count": 17,
   "metadata": {},
   "outputs": [
    {
     "data": {
      "text/plain": [
       "count      18.000000\n",
       "mean      461.500000\n",
       "std       940.145686\n",
       "min      -365.000000\n",
       "25%         7.000000\n",
       "50%       105.000000\n",
       "75%       348.750000\n",
       "max      3650.000000\n",
       "Name: time, dtype: float64"
      ]
     },
     "execution_count": 17,
     "metadata": {},
     "output_type": "execute_result"
    }
   ],
   "source": [
    "#Statistics of survey data, I can either use the mean, or 50% percentile.\n",
    "\n",
    "df_f['time'].describe(include='all')"
   ]
  },
  {
   "cell_type": "markdown",
   "metadata": {},
   "source": [
    "## Calculations"
   ]
  },
  {
   "cell_type": "markdown",
   "metadata": {},
   "source": [
    "I will plug in some numbers into the equations mentioned in the methodology.\n",
    "\n",
    "I will use data from Sweden as they have readiliy available,uptodate and clean data to work with. However you can change the variables for a country of your choice.\n",
    "\n",
    "\n",
    "Relevant information:\n",
    "\n",
    "Sweden infection fatality ratio = https://www.folkhalsomyndigheten.se/contentassets/53c0dc391be54f5d959ead9131edb771/infection-fatality-rate-covid-19-stockholm-technical-report.pdf\n",
    "\n",
    "Worldwide lockdown stringency = https://ourworldindata.org/grapher/covid-stringency-index\n",
    "\n",
    "Sweden Excess deaths = https://www.reuters.com/article/us-health-coronavirus-europe-mortality-idUSKBN2BG1R\n"
   ]
  },
  {
   "cell_type": "markdown",
   "metadata": {},
   "source": [
    "Using swedens excess deaths, life years lost = 63700\n",
    "\n",
    "Sweden's IFR should be roughly 0.6%\n",
    "\n",
    "Sweden population = ~ 10,377,781 = a\n",
    "\n",
    "Average age of a swede = ~41 = b\n",
    "\n",
    "Average lifespan of a swede = ~83 = c\n",
    "\n",
    "Assuming the absolute worst case scenario that everyone in Sverige gets covid over a year and the average age of death is the average person:\n",
    "\n",
    "life years lost to covid = a(0.6/100)(c-b) = 2678900.812,\n",
    "Making some more heroic assumptions. Given that Swedens lockdown stringency is similar to that of the rest of the west (even thought that feels wrong, Ourworld in data assumes so).\n",
    "\n",
    "I will assume that the sample of the people that responded to my survey roughly maps to how the average swede would have felt over lockdowns, which they largely didn't like. On average they traded off 1.26 years to have not lived in a lockdown at all.\n",
    "\n",
    "So on average a year under restrictions is worth 365/461 of a normal year. I'll assume covid restrictions for 6 months.\n",
    "\n",
    "life years lost due to lockdown = a*(461/365)(0.5) + 63700 = 6617339.782191781 years.\n",
    "\n"
   ]
  },
  {
   "cell_type": "markdown",
   "metadata": {},
   "source": [
    "## Conclusion:"
   ]
  },
  {
   "cell_type": "code",
   "execution_count": 18,
   "metadata": {},
   "outputs": [
    {
     "data": {
      "text/plain": [
       "True"
      ]
     },
     "execution_count": 18,
     "metadata": {},
     "output_type": "execute_result"
    }
   ],
   "source": [
    "2678900.812 < 6617339.782191781"
   ]
  },
  {
   "cell_type": "markdown",
   "metadata": {},
   "source": [
    "You decide for yourself."
   ]
  },
  {
   "cell_type": "markdown",
   "metadata": {},
   "source": [
    "# Further refining the QALY"
   ]
  },
  {
   "cell_type": "markdown",
   "metadata": {},
   "source": [
    "Some more work can be done on estimating the quality adjusted lifeyears estimate, data on this is extremely difficult to find, the image below is a summary of the best I could find.\n",
    "\n",
    "Since there is no quality adjusting to do, I just need to compare baseline average life satisfaction metrics by age.\n",
    "\n",
    "Source: https://www.ons.gov.uk/peoplepopulationandcommunity/wellbeing/articles/measuringnationalwellbeing/atwhatageispersonalwellbeingthehighest"
   ]
  },
  {
   "cell_type": "code",
   "execution_count": 19,
   "metadata": {},
   "outputs": [
    {
     "data": {
      "text/html": [
       "<img src=\"https://www.ons.gov.uk/resource?uri=/peoplepopulationandcommunity/wellbeing/articles/measuringnationalwellbeing/atwhatageispersonalwellbeingthehighest/31a02c4d.png\" width=\"900\" height=\"300\"/>"
      ],
      "text/plain": [
       "<IPython.core.display.Image object>"
      ]
     },
     "execution_count": 19,
     "metadata": {},
     "output_type": "execute_result"
    }
   ],
   "source": [
    "from IPython.display import Image\n",
    "from IPython.core.display import HTML \n",
    "Image(url= \"https://www.ons.gov.uk/resource?uri=/peoplepopulationandcommunity/wellbeing/articles/measuringnationalwellbeing/atwhatageispersonalwellbeingthehighest/31a02c4d.png\",\n",
    "      width = 900, height = 300)"
   ]
  },
  {
   "cell_type": "markdown",
   "metadata": {},
   "source": [
    "Most people over the age of 20 say that their twenties are their best life years, so I will base that as 1 life year and everything else will be a ratio of that relative to how many other people chose other ages."
   ]
  },
  {
   "cell_type": "code",
   "execution_count": 20,
   "metadata": {},
   "outputs": [],
   "source": [
    "#Did some manual cleaning, raw file is formatted horribly for code based analysis.\n",
    "df_qa = pd.read_csv('qaly.csv')"
   ]
  },
  {
   "cell_type": "code",
   "execution_count": 21,
   "metadata": {},
   "outputs": [
    {
     "name": "stdout",
     "output_type": "stream",
     "text": [
      "<class 'pandas.core.frame.DataFrame'>\n",
      "RangeIndex: 76 entries, 0 to 75\n",
      "Data columns (total 5 columns):\n",
      " #   Column                Non-Null Count  Dtype  \n",
      "---  ------                --------------  -----  \n",
      " 0   age                   76 non-null     int64  \n",
      " 1   avg_lifesatisfaction  76 non-null     float64\n",
      " 2   avg_worthwhile        76 non-null     float64\n",
      " 3   avg_happiness         76 non-null     float64\n",
      " 4   avg_anxiety           76 non-null     float64\n",
      "dtypes: float64(4), int64(1)\n",
      "memory usage: 3.1 KB\n"
     ]
    }
   ],
   "source": [
    "df_qa.info()"
   ]
  },
  {
   "cell_type": "code",
   "execution_count": 22,
   "metadata": {},
   "outputs": [],
   "source": [
    "#Making a mean adjusted field\n",
    "df_qa['adjusted'] = (df_qa['avg_lifesatisfaction'] + df_qa['avg_worthwhile'] + \\\n",
    "                     df_qa['avg_happiness'] - df_qa['avg_anxiety'])/4"
   ]
  },
  {
   "cell_type": "code",
   "execution_count": 44,
   "metadata": {},
   "outputs": [
    {
     "data": {
      "text/html": [
       "<div>\n",
       "<style scoped>\n",
       "    .dataframe tbody tr th:only-of-type {\n",
       "        vertical-align: middle;\n",
       "    }\n",
       "\n",
       "    .dataframe tbody tr th {\n",
       "        vertical-align: top;\n",
       "    }\n",
       "\n",
       "    .dataframe thead th {\n",
       "        text-align: right;\n",
       "    }\n",
       "</style>\n",
       "<table border=\"1\" class=\"dataframe\">\n",
       "  <thead>\n",
       "    <tr style=\"text-align: right;\">\n",
       "      <th></th>\n",
       "      <th>age</th>\n",
       "      <th>avg_lifesatisfaction</th>\n",
       "      <th>avg_worthwhile</th>\n",
       "      <th>avg_happiness</th>\n",
       "      <th>avg_anxiety</th>\n",
       "      <th>adjusted</th>\n",
       "      <th>ratio</th>\n",
       "    </tr>\n",
       "  </thead>\n",
       "  <tbody>\n",
       "    <tr>\n",
       "      <th>66</th>\n",
       "      <td>82</td>\n",
       "      <td>7.74</td>\n",
       "      <td>7.78</td>\n",
       "      <td>7.59</td>\n",
       "      <td>2.59</td>\n",
       "      <td>5.130</td>\n",
       "      <td>0.970672</td>\n",
       "    </tr>\n",
       "    <tr>\n",
       "      <th>67</th>\n",
       "      <td>83</td>\n",
       "      <td>7.74</td>\n",
       "      <td>7.78</td>\n",
       "      <td>7.59</td>\n",
       "      <td>2.59</td>\n",
       "      <td>5.130</td>\n",
       "      <td>0.970672</td>\n",
       "    </tr>\n",
       "    <tr>\n",
       "      <th>68</th>\n",
       "      <td>84</td>\n",
       "      <td>7.74</td>\n",
       "      <td>7.78</td>\n",
       "      <td>7.59</td>\n",
       "      <td>2.59</td>\n",
       "      <td>5.130</td>\n",
       "      <td>0.970672</td>\n",
       "    </tr>\n",
       "    <tr>\n",
       "      <th>69</th>\n",
       "      <td>85</td>\n",
       "      <td>7.62</td>\n",
       "      <td>7.53</td>\n",
       "      <td>7.51</td>\n",
       "      <td>2.60</td>\n",
       "      <td>5.015</td>\n",
       "      <td>0.948912</td>\n",
       "    </tr>\n",
       "    <tr>\n",
       "      <th>70</th>\n",
       "      <td>86</td>\n",
       "      <td>7.62</td>\n",
       "      <td>7.53</td>\n",
       "      <td>7.51</td>\n",
       "      <td>2.60</td>\n",
       "      <td>5.015</td>\n",
       "      <td>0.948912</td>\n",
       "    </tr>\n",
       "    <tr>\n",
       "      <th>71</th>\n",
       "      <td>87</td>\n",
       "      <td>7.62</td>\n",
       "      <td>7.53</td>\n",
       "      <td>7.51</td>\n",
       "      <td>2.60</td>\n",
       "      <td>5.015</td>\n",
       "      <td>0.948912</td>\n",
       "    </tr>\n",
       "    <tr>\n",
       "      <th>72</th>\n",
       "      <td>88</td>\n",
       "      <td>7.62</td>\n",
       "      <td>7.53</td>\n",
       "      <td>7.51</td>\n",
       "      <td>2.60</td>\n",
       "      <td>5.015</td>\n",
       "      <td>0.948912</td>\n",
       "    </tr>\n",
       "    <tr>\n",
       "      <th>73</th>\n",
       "      <td>89</td>\n",
       "      <td>7.62</td>\n",
       "      <td>7.53</td>\n",
       "      <td>7.51</td>\n",
       "      <td>2.60</td>\n",
       "      <td>5.015</td>\n",
       "      <td>0.948912</td>\n",
       "    </tr>\n",
       "    <tr>\n",
       "      <th>74</th>\n",
       "      <td>90</td>\n",
       "      <td>7.62</td>\n",
       "      <td>7.53</td>\n",
       "      <td>7.51</td>\n",
       "      <td>2.60</td>\n",
       "      <td>5.015</td>\n",
       "      <td>0.948912</td>\n",
       "    </tr>\n",
       "    <tr>\n",
       "      <th>75</th>\n",
       "      <td>91</td>\n",
       "      <td>7.54</td>\n",
       "      <td>7.26</td>\n",
       "      <td>7.31</td>\n",
       "      <td>2.57</td>\n",
       "      <td>4.885</td>\n",
       "      <td>0.924314</td>\n",
       "    </tr>\n",
       "  </tbody>\n",
       "</table>\n",
       "</div>"
      ],
      "text/plain": [
       "    age  avg_lifesatisfaction  avg_worthwhile  avg_happiness  avg_anxiety  \\\n",
       "66   82                  7.74            7.78           7.59         2.59   \n",
       "67   83                  7.74            7.78           7.59         2.59   \n",
       "68   84                  7.74            7.78           7.59         2.59   \n",
       "69   85                  7.62            7.53           7.51         2.60   \n",
       "70   86                  7.62            7.53           7.51         2.60   \n",
       "71   87                  7.62            7.53           7.51         2.60   \n",
       "72   88                  7.62            7.53           7.51         2.60   \n",
       "73   89                  7.62            7.53           7.51         2.60   \n",
       "74   90                  7.62            7.53           7.51         2.60   \n",
       "75   91                  7.54            7.26           7.31         2.57   \n",
       "\n",
       "    adjusted     ratio  \n",
       "66     5.130  0.970672  \n",
       "67     5.130  0.970672  \n",
       "68     5.130  0.970672  \n",
       "69     5.015  0.948912  \n",
       "70     5.015  0.948912  \n",
       "71     5.015  0.948912  \n",
       "72     5.015  0.948912  \n",
       "73     5.015  0.948912  \n",
       "74     5.015  0.948912  \n",
       "75     4.885  0.924314  "
      ]
     },
     "execution_count": 44,
     "metadata": {},
     "output_type": "execute_result"
    }
   ],
   "source": [
    "df_qa.tail(10)"
   ]
  },
  {
   "cell_type": "code",
   "execution_count": 24,
   "metadata": {},
   "outputs": [
    {
     "data": {
      "image/png": "[encoded data removed]",
      "text/plain": [
       "<Figure size 432x288 with 2 Axes>"
      ]
     },
     "metadata": {
      "needs_background": "light"
     },
     "output_type": "display_data"
    }
   ],
   "source": [
    "# Correlation matrix lets me see how the datasets author weighted the fields\n",
    "ax = sns.heatmap(df_qa.corr(), annot=True, cmap = \"Greens\")"
   ]
  },
  {
   "cell_type": "code",
   "execution_count": 25,
   "metadata": {},
   "outputs": [],
   "source": [
    "# Getting relative adjusted values.\n",
    "df_qa['ratio'] = df_qa['adjusted']/df_qa['adjusted'].max()"
   ]
  },
  {
   "cell_type": "code",
   "execution_count": 48,
   "metadata": {},
   "outputs": [],
   "source": [
    "def Qi_mean(event,death):#90-91 implies 90+\n",
    "        \n",
    "    if event == death:\n",
    "        raise Exception(\"This function requires a difference of a year or more\"\\\n",
    "                       \"Just increase age of death by one\")\n",
    "    if event > death:\n",
    "        raise Exception(\"Things can't happen to you after you die.\")\n",
    "        \n",
    "    start_index = df_qa.loc[df_qa.age == event].index.values.astype(int)[0]\n",
    "    end_index = df_qa.loc[df_qa.age == death].index.values.astype(int)[0]\n",
    "    \n",
    "    adjusted_sum = df_qa['ratio'].loc[start_index:end_index].sum()\n",
    "     \n",
    "    return adjusted_sum/(end_index-start_index+1)"
   ]
  },
  {
   "cell_type": "markdown",
   "metadata": {},
   "source": [
    "### More analysis, this time average case rather than worst case"
   ]
  },
  {
   "cell_type": "markdown",
   "metadata": {},
   "source": [
    "Of those who died of covid, a majority were in nursing homes, and of that they had a median remaining lifespan of 5-9 months.(Most of them 80+)\n",
    "\n",
    "Source: https://link.springer.com/article/10.1007/s12115-020-00508-0"
   ]
  },
  {
   "cell_type": "markdown",
   "metadata": {},
   "source": [
    "I'll be reusing the equations from before but just change the weightage and use more realistic values."
   ]
  },
  {
   "cell_type": "markdown",
   "metadata": {},
   "source": [
    "#### life years lost due to lockdown = a*(461/365)(0.5) + 63700 = 6617339.782191781 years."
   ]
  },
  {
   "cell_type": "code",
   "execution_count": 69,
   "metadata": {},
   "outputs": [],
   "source": [
    "life_lost_covid = 10377781*(10/100)*Qi_mean(80,91)*0.05*(9/12)\n",
    "\n",
    "#Using upperlimit of infection fatality ratio, and multiplying by ratio of population over 80"
   ]
  },
  {
   "cell_type": "code",
   "execution_count": 71,
   "metadata": {},
   "outputs": [
    {
     "data": {
      "text/plain": [
       "True"
      ]
     },
     "execution_count": 71,
     "metadata": {},
     "output_type": "execute_result"
    }
   ],
   "source": [
    "life_lost_covid <  6617339.782191781"
   ]
  },
  {
   "cell_type": "markdown",
   "metadata": {},
   "source": [
    "Using more realistic numbers its all the more evident that much more lifeyears are lost to lockdowns, than no lockdowns."
   ]
  },
  {
   "cell_type": "code",
   "execution_count": null,
   "metadata": {},
   "outputs": [],
   "source": []
  }
 ],
 "metadata": {
  "kernelspec": {
   "display_name": "Python 3",
   "language": "python",
   "name": "python3"
  },
  "language_info": {
   "codemirror_mode": {
    "name": "ipython",
    "version": 3
   },
   "file_extension": ".py",
   "mimetype": "text/x-python",
   "name": "python",
   "nbconvert_exporter": "python",
   "pygments_lexer": "ipython3",
   "version": "3.8.5"
  }
 },
 "nbformat": 4,
 "nbformat_minor": 4
}
